{
 "cells": [
  {
   "cell_type": "markdown",
   "id": "bd0e9fe5-09e1-40bf-b2de-cab2737447e0",
   "metadata": {},
   "source": [
    "### Aunque Nosotros usaremos JupyterLAB\n",
    "Casi todo lo explicado tambien se pude hacer con el IDE Thonny"
   ]
  },
  {
   "cell_type": "markdown",
   "id": "47fbdbc6-afab-45c3-8035-d15e14c1bf0d",
   "metadata": {},
   "source": [
    "___"
   ]
  },
  {
   "cell_type": "markdown",
   "id": "38a17b83-f5f6-4949-97e3-a8c201e92a3a",
   "metadata": {},
   "source": [
    "Thonny es un entorno de desarrollo integrado (IDE) de Python diseñado para principiantes. Proporciona un enfoque sencillo y amigable para aprender a programar en Python. "
   ]
  },
  {
   "cell_type": "markdown",
   "id": "7d3c56b2-e6b1-42a9-8d00-23b3787be2d0",
   "metadata": {},
   "source": [
    "Tambien se puede usar para programar placas Micropython/CircuitPython"
   ]
  },
  {
   "cell_type": "markdown",
   "id": "72914ec7-5ad5-4e3f-b4cc-681847dd92db",
   "metadata": {},
   "source": [
    "Thonny es compatible con Windows, Mac y Linux,\n",
    "\n",
    "https://thonny.org"
   ]
  },
  {
   "cell_type": "code",
   "execution_count": null,
   "id": "83b4478b-2682-4feb-838d-6f2c9a50dbc5",
   "metadata": {},
   "outputs": [],
   "source": []
  },
  {
   "cell_type": "code",
   "execution_count": null,
   "id": "953c7f7c-e85f-48ad-95f5-d637a3d1a785",
   "metadata": {},
   "outputs": [],
   "source": []
  }
 ],
 "metadata": {
  "kernelspec": {
   "display_name": "Python 3 (ipykernel)",
   "language": "python",
   "name": "python3"
  },
  "language_info": {
   "codemirror_mode": {
    "name": "ipython",
    "version": 3
   },
   "file_extension": ".py",
   "mimetype": "text/x-python",
   "name": "python",
   "nbconvert_exporter": "python",
   "pygments_lexer": "ipython3",
   "version": "3.10.12"
  }
 },
 "nbformat": 4,
 "nbformat_minor": 5
}
