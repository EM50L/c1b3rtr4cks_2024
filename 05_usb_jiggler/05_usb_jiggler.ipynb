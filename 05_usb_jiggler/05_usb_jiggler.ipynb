{
 "cells": [
  {
   "cell_type": "markdown",
   "id": "e314d625-62f1-4c00-b053-3e58ae63e171",
   "metadata": {},
   "source": [
    "### POC: \"USB Mouse Jiggler\"\n",
    "- Charla: Hacking USB/IOT Devices With Python c1b3rtr4cks 2024\n",
    "- https://www.c1b3rtr4cks.es\n",
    "\n",
    "<pre>\n",
    "En esta POC flasearemos y programaremos un Dispositivo Circuitpython\n",
    "Para que se presente como un dispositivo USB HID personalizado**\n",
    "\n",
    "** Personalizaremos VID , PID y alguna cadena de config \n",
    "</pre>\n",
    "___\n",
    "\n",
    "<pre>\n",
    "CC Attribution-ShareAlike 4.0 International (CC BY-SA 4.0)   \n",
    "https://creativecommons.org/licenses/by-sa/4.0/   \n",
    "https://euskalhack.org/   \n",
    "</pre>\n",
    "___\n",
    "<br>\n"
   ]
  },
  {
   "cell_type": "markdown",
   "id": "7d6fb644-b6e6-4322-a4d7-55974c1f9ef8",
   "metadata": {},
   "source": [
    "Un \"USB Mouse Jiggler\" es un dispositivo que simula la actividad del usuario en una computadora al mover el cursor del ratón, evitando que el sistema entre en modo de suspensión o active un cierre de sesión automático. "
   ]
  },
  {
   "cell_type": "markdown",
   "id": "14f04888-5ffc-4a4f-bf6f-4498d36885f7",
   "metadata": {},
   "source": [
    "___"
   ]
  },
  {
   "cell_type": "markdown",
   "id": "fb150f03-4a9e-4c8b-93c2-43480b5e9d69",
   "metadata": {},
   "source": [
    "## - 1) Flassear firmware "
   ]
  },
  {
   "cell_type": "markdown",
   "id": "dd43835c-6b0f-4a20-a234-3dc83d9c91cc",
   "metadata": {},
   "source": [
    "___"
   ]
  },
  {
   "cell_type": "markdown",
   "id": "513888f9-d35a-48fc-bae2-ae59ba536d09",
   "metadata": {},
   "source": [
    "## - 2) Cargar Libreria adafruit_hid "
   ]
  },
  {
   "cell_type": "markdown",
   "id": "96a64810-0fda-4120-a6fb-8dc3a5be267c",
   "metadata": {},
   "source": [
    "___"
   ]
  },
  {
   "cell_type": "markdown",
   "id": "080fe449-7f06-4b36-bbab-85720cb67c1a",
   "metadata": {},
   "source": [
    "## - 3) Cargar boot.py\n",
    "\n",
    "```python\n",
    "## Contenido boot.py (archivo de configuracion se ejecuta nada mas arrancar la maq)\n",
    "## Aqui se definen los parametros USB (se ejecuta antes del usb)\n",
    "\n",
    "\n",
    "import usb_cdc, usb_hid, storage, supervisor\n",
    "\n",
    "storage.disable_usb_drive() #desabilito storaje para liberar endpoints\n",
    "#Haces el dispositivo mas dificil de detectar\n",
    "\n",
    "\n",
    "#Configuro parametros USB:         Fabricante    , Producto          , VID  , PID\n",
    "supervisor.set_usb_identification(\"c1b3rtr4cks_2024\",\"Hack_USB_Python\",0x2E8A,0x0005)\n",
    "\n",
    "\n",
    "#Ojo si desabilitas el CDC y el usb_drive pierdes el control\n",
    "#Pero haces el dispositivo mas dificil de detectar\n",
    "#usb_cdc.enable(console=False, data=True)    # desabilita cdc\n",
    "\n",
    "#Habilito Raton (para que haga de jiggler)\n",
    "#usb_hid.enable((usb_hid.Device.MOUSE,))\n",
    "usb_hid.enable((usb_hid.Device.KEYBOARD,usb_hid.Device.MOUSE))\n",
    "\n",
    "\n",
    "print(\"fin boot.py\")\n",
    "```\n"
   ]
  },
  {
   "cell_type": "markdown",
   "id": "175e9367-13ea-4b00-bd1d-27172daae077",
   "metadata": {},
   "source": [
    "___"
   ]
  },
  {
   "cell_type": "markdown",
   "id": "9b917686-1743-4601-9ae8-83c35ba7fb3e",
   "metadata": {},
   "source": [
    "## - 4) Cargar code.py\n",
    "\n",
    "```python\n",
    "## Contenido code.py (archivo con el codigo usb-jiggler\n",
    "import time\n",
    "import usb_hid\n",
    "from adafruit_hid.mouse import Mouse\n",
    "\n",
    "mouse = Mouse(usb_hid.devices)\n",
    "\n",
    "# bucle infinito para que se procese indefinidamente\n",
    "# nota lo limito a 300seg para depuracion/pruebas\n",
    "tiempo_inicial = time.time()\n",
    "while True and (time.time() - tiempo_inicial) < 300:\n",
    "    mouse.move(x=2)\n",
    "    time.sleep(0.1)\n",
    "    #mouse.move(x=-2)\n",
    "    time.sleep(5)\n",
    "\n",
    "```\n"
   ]
  },
  {
   "cell_type": "markdown",
   "id": "a6718cfa-5d4a-4eab-a9fa-480cb8bd3283",
   "metadata": {},
   "source": [
    "## - 5) steal / ocultar dispositivo\n",
    "\n",
    "<pre>\n",
    "La idea es que el dispositivo se parezca a un raton real\n",
    "\n",
    "Para ello. No deberia anunciarse como dispositivo compuesto ***\n",
    "\n",
    "Tengo que desabilitar usb_drive y usb_cdc \n",
    "dejando solo usb_hid/mouse\n",
    "\n",
    "</pre>"
   ]
  },
  {
   "cell_type": "markdown",
   "id": "0eb8cdc1-249d-490a-9465-68bfaedbb39c",
   "metadata": {},
   "source": [
    "____\n",
    "\n",
    "<pre>\n",
    "Un \"dispositivo compuesto\", en el contexto de USB y hardware, se refiere a un dispositivo que tiene múltiples interfaces controladas de forma independiente entre sí. Esto significa que un único dispositivo físico puede ser reconocido por el sistema anfitrión como teniendo múltiples funciones\n",
    "</pre>"
   ]
  },
  {
   "cell_type": "code",
   "execution_count": null,
   "id": "ae744605-5fb8-4b35-a68b-9fb5f5d15cb9",
   "metadata": {},
   "outputs": [],
   "source": []
  }
 ],
 "metadata": {
  "kernelspec": {
   "display_name": "Python 3 (ipykernel)",
   "language": "python",
   "name": "python3"
  },
  "language_info": {
   "codemirror_mode": {
    "name": "ipython",
    "version": 3
   },
   "file_extension": ".py",
   "mimetype": "text/x-python",
   "name": "python",
   "nbconvert_exporter": "python",
   "pygments_lexer": "ipython3",
   "version": "3.10.12"
  }
 },
 "nbformat": 4,
 "nbformat_minor": 5
}
